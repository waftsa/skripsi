{
 "cells": [
  {
   "cell_type": "markdown",
   "id": "5db52361",
   "metadata": {},
   "source": [
    "Light Pre-process before label"
   ]
  },
  {
   "cell_type": "code",
   "execution_count": null,
   "id": "97a5e65f",
   "metadata": {},
   "outputs": [],
   "source": [
    "import nltk\n",
    "nltk.download('stopwords')\n",
    "from nltk.corpus import stopwords\n",
    "\n",
    "stop_words = set(stopwords.words('english'))\n",
    "\n",
    "def final_clean(text):\n",
    "    text = str(text).lower()\n",
    "    text = re.sub(r\"http\\S+|www\\S+|https\\S+\", \"\", text)        # hapus URL\n",
    "    text = re.sub(r\"@\\w+\", \"\", text)                           # hapus mention\n",
    "    text = re.sub(r\"[^\\w\\s]\", \"\", text)                        # hapus tanda baca\n",
    "    text = re.sub(r\"[\\U00010000-\\U0010ffff]\", \"\", text)        # hapus emoji\n",
    "    text = re.sub(r\"\\d+\", \"\", text)                            # hapus angka\n",
    "    text = re.sub(r\"\\s+\", \" \", text).strip()                   # hapus spasi berlebih\n",
    "    words = text.split()\n",
    "    words = [word for word in words if word not in stop_words] # hapus stopwords\n",
    "    return ' '.join(words)\n",
    "\n",
    "df['full_text_processed'] = df['full_text_en'].apply(final_clean)\n",
    "\n",
    "\n",
    "df[['created_at', 'full_text_processed', 'label']].to_csv(destination_path, index=False)\n",
    "\n",
    "print(f\"✅ Selesai! File disimpan di: {destination_path}\")\n"
   ]
  }
 ],
 "metadata": {
  "kernelspec": {
   "display_name": ".venv",
   "language": "python",
   "name": "python3"
  },
  "language_info": {
   "name": "python",
   "version": "3.11.4"
  }
 },
 "nbformat": 4,
 "nbformat_minor": 5
}
